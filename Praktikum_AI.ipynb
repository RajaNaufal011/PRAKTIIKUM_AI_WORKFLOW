{
  "nbformat": 4,
  "nbformat_minor": 0,
  "metadata": {
    "colab": {
      "provenance": []
    },
    "kernelspec": {
      "name": "python3",
      "display_name": "Python 3"
    },
    "language_info": {
      "name": "python"
    }
  },
  "cells": [
    {
      "cell_type": "code",
      "execution_count": 1,
      "metadata": {
        "id": "zZx2jJBGBdjG"
      },
      "outputs": [],
      "source": [
        "import pandas as pd\n",
        "# Buat data penjualan toko\n",
        "data = {\n",
        "    \"Tanggal\": [\"2025-03-11\", \"2025-03-12\", \"2025-03-13\", \"2025-03-14\", \"2025-03-15\", \"2025-03-16\", \"2025-03-17\", \"2025-03-18\", \"2025-03-19\", \"2025-03-20\"],\n",
        "    \"Produk\": [\"Rokok Sampurna\", \"Garpit\", \"Rokok Magnum\", \"Mie Indomie Ayam Bawang\", \"Teh Kotak\",\n",
        "               \"Kopi Kapal Api\", \"Susu Indomilk\", \"Lasegar Cap Kaki3\", \"Kopi Good Day\", \"Teh Pucuk\"],\n",
        "    \"Jumlah Terjual\": [10, 15, 15, 20, 10, 10, 5, 20, 11, 13],\n",
        "    \"Stok\": [50, 30, 20, 15, 30, 35, 25, 20, 30, 25],\n",
        "    \"Harga Satuan\": [35000, 27000, 27000, 20000, 5000, 25000, 2500, 5000, 2500, 10000]\n",
        "}\n",
        "\n",
        "# Simpan dalam DataFrame\n",
        "df = pd.DataFrame(data)\n",
        "\n",
        "# Simpan sebagai file CSV\n",
        "df.to_csv(\"data_penjualan_latihan.csv\", index=False)"
      ]
    },
    {
      "cell_type": "code",
      "source": [
        "#membaca file CSV\n",
        "df =pd.read_csv(\"data_penjualan_latihan.csv\")\n",
        "\n",
        "#menampilkan 5 data pertama\n",
        "print(df.head())"
      ],
      "metadata": {
        "colab": {
          "base_uri": "https://localhost:8080/"
        },
        "id": "CUkt2owHEYrh",
        "outputId": "8023566d-2850-4167-bbd9-a666ffb98df6"
      },
      "execution_count": 4,
      "outputs": [
        {
          "output_type": "stream",
          "name": "stdout",
          "text": [
            "      Tanggal                   Produk  Jumlah Terjual  Stok  Harga Satuan\n",
            "0  2025-03-11           Rokok Sampurna              10    50         35000\n",
            "1  2025-03-12                   Garpit              15    30         27000\n",
            "2  2025-03-13             Rokok Magnum              15    20         27000\n",
            "3  2025-03-14  Mie Indomie Ayam Bawang              20    15         20000\n",
            "4  2025-03-15                Teh Kotak              10    30          5000\n"
          ]
        }
      ]
    },
    {
      "cell_type": "code",
      "source": [
        "#cek apa ada data yang kosong\n",
        "print(df.isnull().sum())\n",
        "\n",
        "#konvers kolom tanggal ke format datetime\n",
        "df[\"Tanggal\"]=pd.to_datetime(df[\"Tanggal\"])\n",
        "df[\"Total Penjualan\"]=df[\"Jumlah Terjual\"] *df[\"Harga Satuan\"]\n",
        "df[\"Keuntungan\"]=df[\"Total Penjualan\"] - (df[\"Jumlah Terjual\"]*10000)\n",
        "\n",
        "print(df.head())"
      ],
      "metadata": {
        "colab": {
          "base_uri": "https://localhost:8080/"
        },
        "id": "5QuDvBZVFVEK",
        "outputId": "837b67fe-4adc-4e1f-82d0-f858355199e4"
      },
      "execution_count": 5,
      "outputs": [
        {
          "output_type": "stream",
          "name": "stdout",
          "text": [
            "Tanggal           0\n",
            "Produk            0\n",
            "Jumlah Terjual    0\n",
            "Stok              0\n",
            "Harga Satuan      0\n",
            "dtype: int64\n",
            "     Tanggal                   Produk  Jumlah Terjual  Stok  Harga Satuan  \\\n",
            "0 2025-03-11           Rokok Sampurna              10    50         35000   \n",
            "1 2025-03-12                   Garpit              15    30         27000   \n",
            "2 2025-03-13             Rokok Magnum              15    20         27000   \n",
            "3 2025-03-14  Mie Indomie Ayam Bawang              20    15         20000   \n",
            "4 2025-03-15                Teh Kotak              10    30          5000   \n",
            "\n",
            "   Total Penjualan  Keuntungan  \n",
            "0           350000      250000  \n",
            "1           405000      255000  \n",
            "2           405000      255000  \n",
            "3           400000      200000  \n",
            "4            50000      -50000  \n"
          ]
        }
      ]
    },
    {
      "cell_type": "code",
      "source": [
        "!pip install scikit-learn"
      ],
      "metadata": {
        "colab": {
          "base_uri": "https://localhost:8080/"
        },
        "id": "6XyzEMCnFdsM",
        "outputId": "db58f3b0-b6a1-4559-c89c-65f346e8b329"
      },
      "execution_count": 6,
      "outputs": [
        {
          "output_type": "stream",
          "name": "stdout",
          "text": [
            "Requirement already satisfied: scikit-learn in /usr/local/lib/python3.11/dist-packages (1.6.1)\n",
            "Requirement already satisfied: numpy>=1.19.5 in /usr/local/lib/python3.11/dist-packages (from scikit-learn) (1.26.4)\n",
            "Requirement already satisfied: scipy>=1.6.0 in /usr/local/lib/python3.11/dist-packages (from scikit-learn) (1.13.1)\n",
            "Requirement already satisfied: joblib>=1.2.0 in /usr/local/lib/python3.11/dist-packages (from scikit-learn) (1.4.2)\n",
            "Requirement already satisfied: threadpoolctl>=3.1.0 in /usr/local/lib/python3.11/dist-packages (from scikit-learn) (3.5.0)\n"
          ]
        }
      ]
    },
    {
      "cell_type": "code",
      "source": [
        "from sklearn.model_selection import train_test_split\n",
        "from sklearn.tree import DecisionTreeClassifier\n",
        "from sklearn.metrics import accuracy_score\n",
        "\n",
        "# Pilih fitur (x) dan target (y)\n",
        "x = df[[\"Jumlah Terjual\", \"Stok\"]]\n",
        "y = (df[\"Stok\"] < 5).astype(int) # 1 jika stok kurang dari 5, 0 jika cukup\n",
        "\n",
        "# Split data menjadi train dan test\n",
        "x_train, x_test, y_train, y_test = train_test_split(x, y, test_size=0.2, random_state=42)\n",
        "\n",
        "# Buat model Decision Tree\n",
        "model =DecisionTreeClassifier()\n",
        "model.fit(x_train, y_train)\n",
        "\n",
        "# Evaluasi model\n",
        "y_pred =model.predict(x_test)\n",
        "print(\"Akurasi Model: \", accuracy_score(y_test, y_pred))"
      ],
      "metadata": {
        "colab": {
          "base_uri": "https://localhost:8080/"
        },
        "id": "N18D88FdFjLP",
        "outputId": "693581d7-7a08-45f2-e4d5-e1ee4c2d3415"
      },
      "execution_count": 8,
      "outputs": [
        {
          "output_type": "stream",
          "name": "stdout",
          "text": [
            "Akurasi Model:  1.0\n"
          ]
        }
      ]
    },
    {
      "cell_type": "code",
      "source": [
        "produk_baru=[[8,3]]\n",
        "prediksi=model.predict(produk_baru)\n",
        "\n",
        "if prediksi[0]==1:\n",
        "  print(\"produk perlu di restock\")\n",
        "else:\n",
        "  print(\"stock cukup\")"
      ],
      "metadata": {
        "colab": {
          "base_uri": "https://localhost:8080/"
        },
        "id": "Jl3YNOw2FvJn",
        "outputId": "eef2809f-d57c-49e4-c3bc-c6d4b80e82f0"
      },
      "execution_count": 9,
      "outputs": [
        {
          "output_type": "stream",
          "name": "stdout",
          "text": [
            "stock cukup\n"
          ]
        },
        {
          "output_type": "stream",
          "name": "stderr",
          "text": [
            "/usr/local/lib/python3.11/dist-packages/sklearn/utils/validation.py:2739: UserWarning: X does not have valid feature names, but DecisionTreeClassifier was fitted with feature names\n",
            "  warnings.warn(\n"
          ]
        }
      ]
    },
    {
      "cell_type": "code",
      "source": [
        "import matplotlib.pyplot as plt\n",
        "plt.scatter (df[\"Jumlah Terjual\"], df[\"Stok\"], c=df[\"Keuntungan\"], cmap=\"coolwarm\")\n",
        "plt.xlabel(\"Jumlah Terjual\")\n",
        "plt.ylabel(\"Stok\")\n",
        "plt.title(\"Analisis Penjualan dan Stok\")\n",
        "plt.colorbar (label=\"Keuntungan\")\n",
        "plt.show()"
      ],
      "metadata": {
        "colab": {
          "base_uri": "https://localhost:8080/",
          "height": 472
        },
        "id": "9D-EXh6bFzX4",
        "outputId": "0ed8d60f-727c-43ec-89af-2f5e87354011"
      },
      "execution_count": 10,
      "outputs": [
        {
          "output_type": "display_data",
          "data": {
            "text/plain": [
              "<Figure size 640x480 with 2 Axes>"
            ],
            "image/png": "[encoded data removed]"
          },
          "metadata": {}
        }
      ]
    }
  ]
}